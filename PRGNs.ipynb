{
  "nbformat": 4,
  "nbformat_minor": 0,
  "metadata": {
    "colab": {
      "name": "PRGNs.ipynb",
      "provenance": [],
      "toc_visible": true,
      "include_colab_link": true
    },
    "kernelspec": {
      "name": "python3",
      "display_name": "Python 3"
    },
    "language_info": {
      "name": "python"
    }
  },
  "cells": [
    {
      "cell_type": "markdown",
      "metadata": {
        "id": "view-in-github",
        "colab_type": "text"
      },
      "source": [
        "<a href=\"https://colab.research.google.com/github/SuryaKunjam/Avalanche-Effect-progression-/blob/main/PRGNs.ipynb\" target=\"_parent\"><img src=\"https://colab.research.google.com/assets/colab-badge.svg\" alt=\"Open In Colab\"/></a>"
      ]
    },
    {
      "cell_type": "markdown",
      "source": [
        ""
      ],
      "metadata": {
        "id": "1S5lAOqDa348"
      }
    },
    {
      "cell_type": "markdown",
      "source": [
        "**Surya Kunjam(M.tech first year)(21072021)**"
      ],
      "metadata": {
        "id": "jo_yNJd-xTP8"
      }
    },
    {
      "cell_type": "markdown",
      "source": [
        "**PRNG Implementation 1:**\n",
        "\n",
        "---\n",
        "\n"
      ],
      "metadata": {
        "id": "hqlb-LQ2uf54"
      }
    },
    {
      "cell_type": "markdown",
      "source": [
        "**Linear Congruential Method**:-Linear congruential generators (LCGs) are a class of pseudorandom number generator (PRNG) algorithms used for generating sequences of random-like numbers. The generation of random numbers plays a large role in many applications ranging from cryptography to Monte Carlo methods. Linear congruential generators are one of the oldest and most well-known methods for generating random numbers primarily due to their comparative ease of implementation and speed and their need for little memory."
      ],
      "metadata": {
        "id": "rsewTKi3O0td"
      }
    },
    {
      "cell_type": "code",
      "source": [
        "def linearCongruentialMethod(Xo, m, a, c,\n",
        "                            randomNums,\n",
        "                            noOfRandomNums):\n",
        "\n",
        "    # Initialize the seed state\n",
        "    randomNums[0] = Xo\n",
        "\n",
        "    # Traverse to generate required numbers of random numbers\n",
        "    for i in range(1, noOfRandomNums):\n",
        "        \n",
        "        # Follow the linear congruential method\n",
        "        randomNums[i] = ((randomNums[i - 1] * a) +\n",
        "                                        c) % m\n",
        "    \n",
        "# Seed value a is multiplication term, m is modular term, c is incremental term\n",
        "Xo = 17\n",
        "m = 31\n",
        "a = 3\n",
        "c = 3\n",
        "\n",
        "noOfRandomNums = 20\n",
        "\n",
        "# randnum is used here for storing the random number\n",
        "randNums = [0] * (noOfRandomNums)\n",
        "\n",
        "linearCongruentialMethod(Xo, m, a, c,\n",
        "                        randNums,\n",
        "                        noOfRandomNums)\n",
        "\n",
        "print(randNums)"
      ],
      "metadata": {
        "id": "uEXGklptwfuv",
        "colab": {
          "base_uri": "https://localhost:8080/"
        },
        "outputId": "830f8ad6-cf9b-4e72-a1eb-7c42e39c1b59"
      },
      "execution_count": 1,
      "outputs": [
        {
          "output_type": "stream",
          "name": "stdout",
          "text": [
            "[17, 23, 10, 2, 9, 30, 0, 3, 12, 8, 27, 22, 7, 24, 13, 11, 5, 18, 26, 19]\n"
          ]
        }
      ]
    },
    {
      "cell_type": "markdown",
      "source": [
        "**kstest:-**"
      ],
      "metadata": {
        "id": "AL8Kvvg_umVh"
      }
    },
    {
      "cell_type": "code",
      "source": [
        "from scipy.stats import kstest\n",
        "import random\n",
        " # n contains the total number of random variable.\n",
        "n = len(randNums)\n",
        " \n",
        "actual =[]\n",
        "   # It generate the sequence of random numbers.\n",
        "for i in range(n):\n",
        "    actual.append(randNums[i]/31)\n",
        "print('Normalized sequence of Random Numbers written below: ')\n",
        "print()\n",
        "print(actual)\n",
        "print()\n",
        "x = kstest(actual, \"uniform\") \n",
        "print('Test Result of the ks test : ')\n",
        "print()\n",
        "print(x)"
      ],
      "metadata": {
        "id": "I6xAdzDxxHbV",
        "colab": {
          "base_uri": "https://localhost:8080/"
        },
        "outputId": "5394ec18-0b1d-4cc8-d9b1-1c69716dbf1c"
      },
      "execution_count": 2,
      "outputs": [
        {
          "output_type": "stream",
          "name": "stdout",
          "text": [
            "Normalized sequence of Random Numbers written below: \n",
            "\n",
            "[0.5483870967741935, 0.7419354838709677, 0.3225806451612903, 0.06451612903225806, 0.2903225806451613, 0.967741935483871, 0.0, 0.0967741935483871, 0.3870967741935484, 0.25806451612903225, 0.8709677419354839, 0.7096774193548387, 0.22580645161290322, 0.7741935483870968, 0.41935483870967744, 0.3548387096774194, 0.16129032258064516, 0.5806451612903226, 0.8387096774193549, 0.6129032258064516]\n",
            "\n",
            "Test Result of the ks test : \n",
            "\n",
            "KstestResult(statistic=0.1306451612903226, pvalue=0.8844091548283842)\n"
          ]
        }
      ]
    },
    {
      "cell_type": "markdown",
      "source": [
        "**runtest**"
      ],
      "metadata": {
        "id": "LGkMCBVyvHt1"
      }
    },
    {
      "cell_type": "code",
      "source": [
        "import random\n",
        "import math\n",
        "import statistics\n",
        "  \n",
        "def runsTest(l, l_median):\n",
        "  \n",
        "    runs, n1, n2 = 0, 0, 0\n",
        "      \n",
        "    # Checking for start of new run\n",
        "    for i in range(len(l)):\n",
        "          \n",
        "        # no. of runs\n",
        "        if (l[i] >= l_median and l[i-1] < l_median) or \\\n",
        "                (l[i] < l_median and l[i-1] >= l_median):\n",
        "            runs += 1  \n",
        "          \n",
        "        # no. of positive values\n",
        "        if(l[i]) >= l_median:\n",
        "            n1 += 1   \n",
        "          \n",
        "        # no. of negative values\n",
        "        else:\n",
        "            n2 += 1   \n",
        "  \n",
        "    runs_exp = ((2*n1*n2)/(n1+n2))+1\n",
        "    stan_dev = math.sqrt((2*n1*n2*(2*n1*n2-n1-n2))/ \\\n",
        "                       (((n1+n2)**2)*(n1+n2-1)))\n",
        "  \n",
        "    z = (runs-runs_exp)/stan_dev\n",
        "  \n",
        "    return z\n",
        "    \n",
        "l = []\n",
        "for i in range(len(randNums)):\n",
        "    l.append(randNums[i]/31)\n",
        "      \n",
        "l_median= statistics.median(l)\n",
        "  \n",
        "Z = abs(runsTest(l, l_median))\n",
        "  \n",
        "print('Test Results: ')\n",
        "print('Z-statistic= ', Z)"
      ],
      "metadata": {
        "id": "aU3qH-2qyBQu"
      },
      "execution_count": null,
      "outputs": []
    },
    {
      "cell_type": "markdown",
      "source": [
        "**PRNG Implementation 2:**\n",
        "\n",
        "---\n",
        "\n"
      ],
      "metadata": {
        "id": "3H5NeEnFvZZl"
      }
    },
    {
      "cell_type": "markdown",
      "source": [
        "**Blum–Blum–Shub**The Blum–Blum–Shub (BBS) pseudorandom bit generator is one of the most efficient\n",
        "pseudorandom number generators known that is provably secure under the assumption\n",
        "that factoring large composites is intractable. The generator makes use of\n",
        "modulararithmetic."
      ],
      "metadata": {
        "id": "10cwuQfsPk4B"
      }
    },
    {
      "cell_type": "code",
      "source": [
        ""
      ],
      "metadata": {
        "id": "hPfbboxwXTHG"
      },
      "execution_count": null,
      "outputs": []
    },
    {
      "cell_type": "code",
      "source": [
        ""
      ],
      "metadata": {
        "colab": {
          "base_uri": "https://localhost:8080/"
        },
        "id": "StXa6FcQVuVs",
        "outputId": "709b1e60-f292-40f6-9591-9da8b5ad2cdc"
      },
      "execution_count": 24,
      "outputs": [
        {
          "output_type": "stream",
          "name": "stdout",
          "text": [
            "Test Results: \n"
          ]
        }
      ]
    },
    {
      "cell_type": "code",
      "source": [
        "def e(n):\n",
        "    prime = [True for i in range(n+1)]\n",
        "    p = 2\n",
        "\n",
        "    while (p * p <= n):\n",
        " \n",
        "        if (prime[p] == True):\n",
        " \n",
        "            # Update all multiples of p\n",
        "            for i in range(p * p, n+1, p):\n",
        "                prime[i] = False\n",
        "        p += 1\n",
        " \n",
        "    # Print all prime numbers\n",
        "    np = []\n",
        "    for p in range(2, n+1):\n",
        "        if prime[p]:\n",
        "            np.append(p)\n",
        "    return np\n",
        "\n",
        "class EmptySequenseError(Exception):                                  \n",
        "    pass                                                              \n",
        "\n",
        "\n",
        "class BlumBlumShub(object):                                           \n",
        "    def __init__(self, length):                                       \n",
        "        self.length = length                                          \n",
        "        self.primes = e(1000)  # Primes obtained by my own Sieve of Eratosthenes implementation.   \n",
        "\n",
        "    def get_primes(self):      # here we get a prime number                                       \n",
        "        out_primes = []                                               \n",
        "        while len(out_primes) < 2:                                    \n",
        "            curr_prime = self.primes.pop()          \n",
        "            if curr_prime % 4 == 3:                                   \n",
        "                out_primes.append(curr_prime)                         \n",
        "        return out_primes                                             \n",
        "\n",
        "    def set_random_sequence(self):   # here we set random number                                  \n",
        "        p, q = self.get_primes()                                      \n",
        "        m = p * q\n",
        "        print('modulo:', m)\n",
        "        self.random_sequence = [((x+1)**2)%m for x in range(self.length)]\n",
        "\n",
        "    def get_random_sequence(self):      # here we get random number                              \n",
        "        if self.random_sequence:\n",
        "            return self.random_sequence                               \n",
        "        raise EmptySequenseError(\"Set random sequence before get it!\")\n",
        "        \n",
        "bbs = BlumBlumShub(len(randNums))\n",
        "bbs.set_random_sequence()\n",
        "print()\n",
        "print('Random Numbers: ')\n",
        "randNums = bbs.get_random_sequence()\n",
        "print(randNums)"
      ],
      "metadata": {
        "colab": {
          "base_uri": "https://localhost:8080/"
        },
        "id": "PIllmc1eysLQ",
        "outputId": "97154559-4fd4-48b3-d2bd-9677de0d34c7"
      },
      "execution_count": 3,
      "outputs": [
        {
          "output_type": "stream",
          "name": "stdout",
          "text": [
            "modulo: 974153\n",
            "\n",
            "Random Numbers: \n",
            "[1, 4, 9, 16, 25, 36, 49, 64, 81, 100, 121, 144, 169, 196, 225, 256, 289, 324, 361, 400]\n"
          ]
        }
      ]
    },
    {
      "cell_type": "code",
      "source": [
        "N = len(randNums)\n",
        " \n",
        "actual =[]\n",
        "for i in range(N):\n",
        "    actual.append(randNums[i]/974153)\n",
        "print('Normalized sequence of Random Numbers: ')\n",
        "print()\n",
        "print(actual)\n",
        "print()\n",
        "x = kstest(actual, \"uniform\") \n",
        "print('Test Result: ')\n",
        "print()\n",
        "print(x)"
      ],
      "metadata": {
        "colab": {
          "base_uri": "https://localhost:8080/"
        },
        "id": "hG5nNcuHP-7c",
        "outputId": "26a430a1-0508-4fa2-a021-c4b6eb4bc2c1"
      },
      "execution_count": 4,
      "outputs": [
        {
          "output_type": "stream",
          "name": "stdout",
          "text": [
            "Normalized sequence of Random Numbers: \n",
            "\n",
            "[1.0265327931033421e-06, 4.1061311724133685e-06, 9.23879513793008e-06, 1.6424524689653474e-05, 2.5663319827583554e-05, 3.695518055172032e-05, 5.030010686206376e-05, 6.56980987586139e-05, 8.314915624137071e-05, 0.00010265327931033421, 0.0001242104679655044, 0.00014782072220688127, 0.0001734840420344648, 0.00020120042744825505, 0.00023096987844825197, 0.0002627923950344556, 0.00029666797720686585, 0.00033259662496548285, 0.0003705783383103065, 0.00041061311724133686]\n",
            "\n",
            "Test Result: \n",
            "\n",
            "KstestResult(statistic=0.9995893868827587, pvalue=3.7126702318381935e-68)\n"
          ]
        }
      ]
    },
    {
      "cell_type": "code",
      "source": [
        "l = []\n",
        "for i in range(len(randNums)):\n",
        "    l.append(randNums[i]/974153)\n",
        "      \n",
        "l_median= statistics.median(l)\n",
        "  \n",
        "Z = abs(runsTest(l, l_median))\n",
        "  \n",
        "print('Test Results: ')\n",
        "print('Z-statistic= ', Z)"
      ],
      "metadata": {
        "id": "DJ0ZL-HkXseA"
      },
      "execution_count": null,
      "outputs": []
    }
  ]
}